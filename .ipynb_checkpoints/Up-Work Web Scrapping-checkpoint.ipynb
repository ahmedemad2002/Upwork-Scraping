{
 "cells": [
  {
   "cell_type": "code",
   "execution_count": 1,
   "id": "a2675a49",
   "metadata": {},
   "outputs": [],
   "source": [
    "from selenium import webdriver\n",
    "from selenium.webdriver.common.by import By\n",
    "from selenium.webdriver.common.keys import Keys\n",
    "import time"
   ]
  },
  {
   "cell_type": "code",
   "execution_count": 21,
   "id": "c5d78688",
   "metadata": {},
   "outputs": [
    {
     "name": "stderr",
     "output_type": "stream",
     "text": [
      "<ipython-input-21-a24b71b716e3>:1: DeprecationWarning: executable_path has been deprecated, please pass in a Service object\n",
      "  driver = webdriver.Chrome(executable_path=r\"chromedriver.exe\")\n"
     ]
    }
   ],
   "source": [
    "driver = webdriver.Chrome(executable_path=r\"chromedriver.exe\")"
   ]
  },
  {
   "cell_type": "code",
   "execution_count": 3,
   "id": "ae75ceb7",
   "metadata": {},
   "outputs": [
    {
     "name": "stdout",
     "output_type": "stream",
     "text": [
      "460.92771434783936\n"
     ]
    }
   ],
   "source": [
    "t1 = time.time()\n",
    "\n",
    "\n",
    "freelancers = {'c1':[], 'c2':[], 'name':[], 'rating':[], 'hourly_rate':[]}\n",
    "upwork_url = 'https://www.upwork.com'\n",
    "driver.get(upwork_url)\n",
    "\n",
    "time.sleep(2)\n",
    "driver.find_element(By.ID, 'onetrust-accept-btn-handler').click()#Click Accept All Cookies\n",
    "time.sleep(1)\n",
    "l = driver.find_elements(By.CLASS_NAME, \"category-pill-title\")#Find the main categories of work\n",
    "\n",
    "for index in range(len(l)):#Loop on the main categories of work\n",
    "    item = l[index]\n",
    "    col1 = item.text\n",
    "#    time.sleep(1)\n",
    "    item.click()\n",
    "#    time.sleep(2)\n",
    "    specs = driver.find_elements(By.XPATH, \"//a[@class='cat-card w-inline-block']\")\n",
    "    for spec_index in range(len(specs)):# Loop on the sub categories of work\n",
    "        spec_item = specs[spec_index]\n",
    "        spec_link = spec_item.get_attribute('href')\n",
    "        col2 = spec_item.text.split('\\n')[0]\n",
    "        driver.get(spec_link)\n",
    "#        time.sleep(1)\n",
    "        workers = driver.find_elements(By.XPATH, \"//div[@class='name-link text-center mb-20']\")\n",
    "        for w_idx in range(len(workers)):\n",
    "            h_rate = driver.find_elements(By.CLASS_NAME, 'fl-hourly-rate')[w_idx].text\n",
    "            freelancers['c1'].append(col1)\n",
    "            freelancers['c2'].append(col2)\n",
    "            freelancers['name'].append(workers[w_idx].text.split('\\n')[0])\n",
    "            freelancers['rating'].append(workers[w_idx].text.split('\\n')[2])\n",
    "            freelancers['hourly_rate'].append(h_rate)\n",
    "            \n",
    "        driver.back()\n",
    "        specs = driver.find_elements(By.XPATH, \"//a[@class='cat-card w-inline-block']\")\n",
    "    driver.back()\n",
    "    l = driver.find_elements(By.CLASS_NAME, \"category-pill-title\")\n",
    "    \n",
    "driver.quit()  \n",
    "t2 = time.time()\n",
    "print(t2-t1)"
   ]
  },
  {
   "cell_type": "code",
   "execution_count": 4,
   "id": "82305d37",
   "metadata": {},
   "outputs": [],
   "source": [
    "import pandas as pd\n",
    "\n",
    "df = pd.DataFrame(freelancers)"
   ]
  },
  {
   "cell_type": "code",
   "execution_count": 5,
   "id": "8bc4b077",
   "metadata": {},
   "outputs": [
    {
     "data": {
      "text/html": [
       "<div>\n",
       "<style scoped>\n",
       "    .dataframe tbody tr th:only-of-type {\n",
       "        vertical-align: middle;\n",
       "    }\n",
       "\n",
       "    .dataframe tbody tr th {\n",
       "        vertical-align: top;\n",
       "    }\n",
       "\n",
       "    .dataframe thead th {\n",
       "        text-align: right;\n",
       "    }\n",
       "</style>\n",
       "<table border=\"1\" class=\"dataframe\">\n",
       "  <thead>\n",
       "    <tr style=\"text-align: right;\">\n",
       "      <th></th>\n",
       "      <th>c1</th>\n",
       "      <th>c2</th>\n",
       "      <th>name</th>\n",
       "      <th>rating</th>\n",
       "      <th>hourly_rate</th>\n",
       "    </tr>\n",
       "  </thead>\n",
       "  <tbody>\n",
       "    <tr>\n",
       "      <th>0</th>\n",
       "      <td>Development &amp; IT</td>\n",
       "      <td>Java Developers</td>\n",
       "      <td>Brian L.</td>\n",
       "      <td>5.0/5 (35 jobs)</td>\n",
       "      <td>$65/hr</td>\n",
       "    </tr>\n",
       "    <tr>\n",
       "      <th>1</th>\n",
       "      <td>Development &amp; IT</td>\n",
       "      <td>Java Developers</td>\n",
       "      <td>Ivan M.</td>\n",
       "      <td>5.0/5 (27 jobs)</td>\n",
       "      <td>$35/hr</td>\n",
       "    </tr>\n",
       "    <tr>\n",
       "      <th>2</th>\n",
       "      <td>Development &amp; IT</td>\n",
       "      <td>Java Developers</td>\n",
       "      <td>Dmitriy B.</td>\n",
       "      <td>5.0/5 (75 jobs)</td>\n",
       "      <td>$45/hr</td>\n",
       "    </tr>\n",
       "    <tr>\n",
       "      <th>3</th>\n",
       "      <td>Development &amp; IT</td>\n",
       "      <td>Java Developers</td>\n",
       "      <td>Satya Prakash G.</td>\n",
       "      <td>4.3/5 (16 jobs)</td>\n",
       "      <td>$35/hr</td>\n",
       "    </tr>\n",
       "    <tr>\n",
       "      <th>4</th>\n",
       "      <td>Development &amp; IT</td>\n",
       "      <td>Java Developers</td>\n",
       "      <td>Yannick G.</td>\n",
       "      <td>5.0/5 (8 jobs)</td>\n",
       "      <td>$80/hr</td>\n",
       "    </tr>\n",
       "    <tr>\n",
       "      <th>...</th>\n",
       "      <td>...</td>\n",
       "      <td>...</td>\n",
       "      <td>...</td>\n",
       "      <td>...</td>\n",
       "      <td>...</td>\n",
       "    </tr>\n",
       "    <tr>\n",
       "      <th>1723</th>\n",
       "      <td>Legal</td>\n",
       "      <td>Regulatory Compliance Specialists</td>\n",
       "      <td>Geeta K.</td>\n",
       "      <td>5.0/5 (8 jobs)</td>\n",
       "      <td>$50/hr</td>\n",
       "    </tr>\n",
       "    <tr>\n",
       "      <th>1724</th>\n",
       "      <td>Legal</td>\n",
       "      <td>Regulatory Compliance Specialists</td>\n",
       "      <td>Zachary J.</td>\n",
       "      <td>4.7/5 (325 jobs)</td>\n",
       "      <td>$200/hr</td>\n",
       "    </tr>\n",
       "    <tr>\n",
       "      <th>1725</th>\n",
       "      <td>Legal</td>\n",
       "      <td>Regulatory Compliance Specialists</td>\n",
       "      <td>Muhammad Aamir M.</td>\n",
       "      <td>5.0/5 (25 jobs)</td>\n",
       "      <td>$50/hr</td>\n",
       "    </tr>\n",
       "    <tr>\n",
       "      <th>1726</th>\n",
       "      <td>Legal</td>\n",
       "      <td>Regulatory Compliance Specialists</td>\n",
       "      <td>Kirsten P.</td>\n",
       "      <td>4.9/5 (15 jobs)</td>\n",
       "      <td>$80/hr</td>\n",
       "    </tr>\n",
       "    <tr>\n",
       "      <th>1727</th>\n",
       "      <td>Legal</td>\n",
       "      <td>Regulatory Compliance Specialists</td>\n",
       "      <td>Pubudi S.</td>\n",
       "      <td>5.0/5 (14 jobs)</td>\n",
       "      <td>$90/hr</td>\n",
       "    </tr>\n",
       "  </tbody>\n",
       "</table>\n",
       "<p>1728 rows × 5 columns</p>\n",
       "</div>"
      ],
      "text/plain": [
       "                    c1                                 c2               name  \\\n",
       "0     Development & IT                    Java Developers           Brian L.   \n",
       "1     Development & IT                    Java Developers            Ivan M.   \n",
       "2     Development & IT                    Java Developers         Dmitriy B.   \n",
       "3     Development & IT                    Java Developers   Satya Prakash G.   \n",
       "4     Development & IT                    Java Developers         Yannick G.   \n",
       "...                ...                                ...                ...   \n",
       "1723             Legal  Regulatory Compliance Specialists           Geeta K.   \n",
       "1724             Legal  Regulatory Compliance Specialists         Zachary J.   \n",
       "1725             Legal  Regulatory Compliance Specialists  Muhammad Aamir M.   \n",
       "1726             Legal  Regulatory Compliance Specialists         Kirsten P.   \n",
       "1727             Legal  Regulatory Compliance Specialists          Pubudi S.   \n",
       "\n",
       "                rating hourly_rate  \n",
       "0      5.0/5 (35 jobs)      $65/hr  \n",
       "1      5.0/5 (27 jobs)      $35/hr  \n",
       "2      5.0/5 (75 jobs)      $45/hr  \n",
       "3      4.3/5 (16 jobs)      $35/hr  \n",
       "4       5.0/5 (8 jobs)      $80/hr  \n",
       "...                ...         ...  \n",
       "1723    5.0/5 (8 jobs)      $50/hr  \n",
       "1724  4.7/5 (325 jobs)     $200/hr  \n",
       "1725   5.0/5 (25 jobs)      $50/hr  \n",
       "1726   4.9/5 (15 jobs)      $80/hr  \n",
       "1727   5.0/5 (14 jobs)      $90/hr  \n",
       "\n",
       "[1728 rows x 5 columns]"
      ]
     },
     "execution_count": 5,
     "metadata": {},
     "output_type": "execute_result"
    }
   ],
   "source": [
    "df"
   ]
  },
  {
   "cell_type": "code",
   "execution_count": 6,
   "id": "0e2add9c",
   "metadata": {},
   "outputs": [],
   "source": [
    "df['hourly_rate'] = df.hourly_rate.str[1: -3].astype('int64')"
   ]
  },
  {
   "cell_type": "code",
   "execution_count": 7,
   "id": "c63c2191",
   "metadata": {},
   "outputs": [
    {
     "name": "stdout",
     "output_type": "stream",
     "text": [
      "<class 'pandas.core.frame.DataFrame'>\n",
      "RangeIndex: 1728 entries, 0 to 1727\n",
      "Data columns (total 5 columns):\n",
      " #   Column       Non-Null Count  Dtype \n",
      "---  ------       --------------  ----- \n",
      " 0   c1           1728 non-null   object\n",
      " 1   c2           1728 non-null   object\n",
      " 2   name         1728 non-null   object\n",
      " 3   rating       1728 non-null   object\n",
      " 4   hourly_rate  1728 non-null   int64 \n",
      "dtypes: int64(1), object(4)\n",
      "memory usage: 67.6+ KB\n"
     ]
    }
   ],
   "source": [
    "df.info()"
   ]
  },
  {
   "cell_type": "code",
   "execution_count": 8,
   "id": "9a152f01",
   "metadata": {},
   "outputs": [
    {
     "data": {
      "text/plain": [
       "0        [5.0/5, (35, jobs)]\n",
       "1        [5.0/5, (27, jobs)]\n",
       "2        [5.0/5, (75, jobs)]\n",
       "3        [4.3/5, (16, jobs)]\n",
       "4         [5.0/5, (8, jobs)]\n",
       "                ...         \n",
       "1723      [5.0/5, (8, jobs)]\n",
       "1724    [4.7/5, (325, jobs)]\n",
       "1725     [5.0/5, (25, jobs)]\n",
       "1726     [4.9/5, (15, jobs)]\n",
       "1727     [5.0/5, (14, jobs)]\n",
       "Name: rating, Length: 1728, dtype: object"
      ]
     },
     "execution_count": 8,
     "metadata": {},
     "output_type": "execute_result"
    }
   ],
   "source": [
    "df.rating.str.split(' ')"
   ]
  },
  {
   "cell_type": "code",
   "execution_count": 9,
   "id": "a15f66fc",
   "metadata": {},
   "outputs": [],
   "source": [
    "df['n_jobs'] = df.rating.str.split(' ').str[1].str[1:].str.replace(',', '').astype('int64')"
   ]
  },
  {
   "cell_type": "code",
   "execution_count": 10,
   "id": "d204179f",
   "metadata": {},
   "outputs": [],
   "source": [
    "df['rating'] = df.rating.str.split(' ').str[0]"
   ]
  },
  {
   "cell_type": "code",
   "execution_count": 11,
   "id": "54b0f459",
   "metadata": {},
   "outputs": [
    {
     "data": {
      "text/html": [
       "<div>\n",
       "<style scoped>\n",
       "    .dataframe tbody tr th:only-of-type {\n",
       "        vertical-align: middle;\n",
       "    }\n",
       "\n",
       "    .dataframe tbody tr th {\n",
       "        vertical-align: top;\n",
       "    }\n",
       "\n",
       "    .dataframe thead th {\n",
       "        text-align: right;\n",
       "    }\n",
       "</style>\n",
       "<table border=\"1\" class=\"dataframe\">\n",
       "  <thead>\n",
       "    <tr style=\"text-align: right;\">\n",
       "      <th></th>\n",
       "      <th>c1</th>\n",
       "      <th>c2</th>\n",
       "      <th>name</th>\n",
       "      <th>rating</th>\n",
       "      <th>hourly_rate</th>\n",
       "      <th>n_jobs</th>\n",
       "    </tr>\n",
       "  </thead>\n",
       "  <tbody>\n",
       "    <tr>\n",
       "      <th>0</th>\n",
       "      <td>Development &amp; IT</td>\n",
       "      <td>Java Developers</td>\n",
       "      <td>Brian L.</td>\n",
       "      <td>5.0/5</td>\n",
       "      <td>65</td>\n",
       "      <td>35</td>\n",
       "    </tr>\n",
       "    <tr>\n",
       "      <th>1</th>\n",
       "      <td>Development &amp; IT</td>\n",
       "      <td>Java Developers</td>\n",
       "      <td>Ivan M.</td>\n",
       "      <td>5.0/5</td>\n",
       "      <td>35</td>\n",
       "      <td>27</td>\n",
       "    </tr>\n",
       "    <tr>\n",
       "      <th>2</th>\n",
       "      <td>Development &amp; IT</td>\n",
       "      <td>Java Developers</td>\n",
       "      <td>Dmitriy B.</td>\n",
       "      <td>5.0/5</td>\n",
       "      <td>45</td>\n",
       "      <td>75</td>\n",
       "    </tr>\n",
       "    <tr>\n",
       "      <th>3</th>\n",
       "      <td>Development &amp; IT</td>\n",
       "      <td>Java Developers</td>\n",
       "      <td>Satya Prakash G.</td>\n",
       "      <td>4.3/5</td>\n",
       "      <td>35</td>\n",
       "      <td>16</td>\n",
       "    </tr>\n",
       "    <tr>\n",
       "      <th>4</th>\n",
       "      <td>Development &amp; IT</td>\n",
       "      <td>Java Developers</td>\n",
       "      <td>Yannick G.</td>\n",
       "      <td>5.0/5</td>\n",
       "      <td>80</td>\n",
       "      <td>8</td>\n",
       "    </tr>\n",
       "    <tr>\n",
       "      <th>...</th>\n",
       "      <td>...</td>\n",
       "      <td>...</td>\n",
       "      <td>...</td>\n",
       "      <td>...</td>\n",
       "      <td>...</td>\n",
       "      <td>...</td>\n",
       "    </tr>\n",
       "    <tr>\n",
       "      <th>1723</th>\n",
       "      <td>Legal</td>\n",
       "      <td>Regulatory Compliance Specialists</td>\n",
       "      <td>Geeta K.</td>\n",
       "      <td>5.0/5</td>\n",
       "      <td>50</td>\n",
       "      <td>8</td>\n",
       "    </tr>\n",
       "    <tr>\n",
       "      <th>1724</th>\n",
       "      <td>Legal</td>\n",
       "      <td>Regulatory Compliance Specialists</td>\n",
       "      <td>Zachary J.</td>\n",
       "      <td>4.7/5</td>\n",
       "      <td>200</td>\n",
       "      <td>325</td>\n",
       "    </tr>\n",
       "    <tr>\n",
       "      <th>1725</th>\n",
       "      <td>Legal</td>\n",
       "      <td>Regulatory Compliance Specialists</td>\n",
       "      <td>Muhammad Aamir M.</td>\n",
       "      <td>5.0/5</td>\n",
       "      <td>50</td>\n",
       "      <td>25</td>\n",
       "    </tr>\n",
       "    <tr>\n",
       "      <th>1726</th>\n",
       "      <td>Legal</td>\n",
       "      <td>Regulatory Compliance Specialists</td>\n",
       "      <td>Kirsten P.</td>\n",
       "      <td>4.9/5</td>\n",
       "      <td>80</td>\n",
       "      <td>15</td>\n",
       "    </tr>\n",
       "    <tr>\n",
       "      <th>1727</th>\n",
       "      <td>Legal</td>\n",
       "      <td>Regulatory Compliance Specialists</td>\n",
       "      <td>Pubudi S.</td>\n",
       "      <td>5.0/5</td>\n",
       "      <td>90</td>\n",
       "      <td>14</td>\n",
       "    </tr>\n",
       "  </tbody>\n",
       "</table>\n",
       "<p>1728 rows × 6 columns</p>\n",
       "</div>"
      ],
      "text/plain": [
       "                    c1                                 c2               name  \\\n",
       "0     Development & IT                    Java Developers           Brian L.   \n",
       "1     Development & IT                    Java Developers            Ivan M.   \n",
       "2     Development & IT                    Java Developers         Dmitriy B.   \n",
       "3     Development & IT                    Java Developers   Satya Prakash G.   \n",
       "4     Development & IT                    Java Developers         Yannick G.   \n",
       "...                ...                                ...                ...   \n",
       "1723             Legal  Regulatory Compliance Specialists           Geeta K.   \n",
       "1724             Legal  Regulatory Compliance Specialists         Zachary J.   \n",
       "1725             Legal  Regulatory Compliance Specialists  Muhammad Aamir M.   \n",
       "1726             Legal  Regulatory Compliance Specialists         Kirsten P.   \n",
       "1727             Legal  Regulatory Compliance Specialists          Pubudi S.   \n",
       "\n",
       "     rating  hourly_rate  n_jobs  \n",
       "0     5.0/5           65      35  \n",
       "1     5.0/5           35      27  \n",
       "2     5.0/5           45      75  \n",
       "3     4.3/5           35      16  \n",
       "4     5.0/5           80       8  \n",
       "...     ...          ...     ...  \n",
       "1723  5.0/5           50       8  \n",
       "1724  4.7/5          200     325  \n",
       "1725  5.0/5           50      25  \n",
       "1726  4.9/5           80      15  \n",
       "1727  5.0/5           90      14  \n",
       "\n",
       "[1728 rows x 6 columns]"
      ]
     },
     "execution_count": 11,
     "metadata": {},
     "output_type": "execute_result"
    }
   ],
   "source": [
    "df"
   ]
  },
  {
   "cell_type": "code",
   "execution_count": 12,
   "id": "6d69c1ed",
   "metadata": {},
   "outputs": [
    {
     "name": "stdout",
     "output_type": "stream",
     "text": [
      "<class 'pandas.core.frame.DataFrame'>\n",
      "RangeIndex: 1728 entries, 0 to 1727\n",
      "Data columns (total 6 columns):\n",
      " #   Column       Non-Null Count  Dtype \n",
      "---  ------       --------------  ----- \n",
      " 0   c1           1728 non-null   object\n",
      " 1   c2           1728 non-null   object\n",
      " 2   name         1728 non-null   object\n",
      " 3   rating       1728 non-null   object\n",
      " 4   hourly_rate  1728 non-null   int64 \n",
      " 5   n_jobs       1728 non-null   int64 \n",
      "dtypes: int64(2), object(4)\n",
      "memory usage: 81.1+ KB\n"
     ]
    }
   ],
   "source": [
    "df.info()"
   ]
  },
  {
   "cell_type": "code",
   "execution_count": 13,
   "id": "e01c6e01",
   "metadata": {},
   "outputs": [
    {
     "data": {
      "text/plain": [
       "count    1728.000000\n",
       "mean      104.085069\n",
       "std       189.808071\n",
       "min         1.000000\n",
       "25%        20.000000\n",
       "50%        51.000000\n",
       "75%       111.250000\n",
       "max      3402.000000\n",
       "Name: n_jobs, dtype: float64"
      ]
     },
     "execution_count": 13,
     "metadata": {},
     "output_type": "execute_result"
    }
   ],
   "source": [
    "df.n_jobs.describe()"
   ]
  },
  {
   "cell_type": "code",
   "execution_count": 14,
   "id": "e8ffc0da",
   "metadata": {},
   "outputs": [
    {
     "data": {
      "image/png": "[encoded data removed]",
      "text/plain": [
       "<Figure size 432x288 with 1 Axes>"
      ]
     },
     "metadata": {},
     "output_type": "display_data"
    }
   ],
   "source": [
    "import matplotlib.pyplot as plt\n",
    "import seaborn as sns\n",
    "\n",
    "sns.set()\n",
    "\n",
    "sns.histplot(data=df, x='hourly_rate', kde=True)\n",
    "plt.show()"
   ]
  },
  {
   "cell_type": "code",
   "execution_count": 20,
   "id": "8bc315a7",
   "metadata": {},
   "outputs": [],
   "source": [
    "df.to_csv(r'output/UpWork_freelancers.csv')"
   ]
  },
  {
   "cell_type": "code",
   "execution_count": null,
   "id": "044f03cb",
   "metadata": {},
   "outputs": [],
   "source": []
  }
 ],
 "metadata": {
  "kernelspec": {
   "display_name": "Python 3",
   "language": "python",
   "name": "python3"
  },
  "language_info": {
   "codemirror_mode": {
    "name": "ipython",
    "version": 3
   },
   "file_extension": ".py",
   "mimetype": "text/x-python",
   "name": "python",
   "nbconvert_exporter": "python",
   "pygments_lexer": "ipython3",
   "version": "3.8.8"
  }
 },
 "nbformat": 4,
 "nbformat_minor": 5
}
